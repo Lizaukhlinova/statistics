{
 "cells": [
  {
   "cell_type": "markdown",
   "metadata": {},
   "source": [
    "# 9.2"
   ]
  },
  {
   "cell_type": "code",
   "execution_count": 1,
   "metadata": {
    "collapsed": true
   },
   "outputs": [],
   "source": [
    "import numpy as np\n",
    "import scipy.stats as st\n",
    "import matplotlib.pyplot as plt\n",
    "from IPython.display import display, Markdown, Latex\n",
    "\n",
    "%matplotlib inline"
   ]
  },
  {
   "cell_type": "code",
   "execution_count": 2,
   "metadata": {
    "collapsed": false
   },
   "outputs": [],
   "source": [
    "data = []\n",
    "file = open('Regression.csv', 'r')\n",
    "for str in file:\n",
    "    for c in str.split():\n",
    "        data.append(float(c))\n",
    "file.close()   \n",
    "\n",
    "y = np.array([data[0]])\n",
    "for i in range(1, len(data)):\n",
    "    y = np.append(y, data[i] - data[i - 1])\n",
    "    \n",
    "beta_1 = data[0]\n",
    "beta_2 = (data[-1] - data[0]) / len(data)\n",
    "sigma = sum((data[i] - data[i - 1] - (data[-1] - data[0])/len(data))**2 for i in range(1, len(data))) / (len(data) - 1)"
   ]
  },
  {
   "cell_type": "markdown",
   "metadata": {},
   "source": [
    "Сведем задачу к линейной модели. $X_i = \\beta_1 + i\\beta_2 + \\varepsilon_0 + ... + \\varepsilon_n, i = 0, 1,...,n$ - расстояние, которое проехал трамвай на $i$ секунд. Тогда\n",
    "\n",
    "$Y_i = X_i - X_{i-1} = \\beta_2 + \\varepsilon_i, i = 1, 2,...,n$ - расстояние, которое проезжает трамвай за $i$-ую секунду.\n",
    "\n",
    "$Y = \\begin{pmatrix} Y_0 \\\\ Y_1 \\\\ ... \\\\ Y_n \\end{pmatrix} = \\begin{pmatrix} \\beta_1 + \\varepsilon_0 \\\\ \\beta_2 + \\varepsilon_1 \\\\ ... \\\\ \\beta_2 + \\varepsilon_n \\end{pmatrix}  => l = \\begin{pmatrix} \\beta_1 \\\\ \\beta_2 \\\\ ...  \\\\ \\beta_2 \\end{pmatrix}, \\theta = \\begin{pmatrix} \\beta_1 \\\\ \\beta_2 \\end{pmatrix}, Z = \\begin{pmatrix} 1 & 0 \\\\ 0 & 1 \\\\ ... & ... \\\\ 0 & 1 \\end{pmatrix}$"
   ]
  },
  {
   "cell_type": "markdown",
   "metadata": {
    "collapsed": true
   },
   "source": [
    "Найдем оценку наименьших квадратов для $\\theta$:\n",
    "\n",
    "$\\hat{\\theta} = \\begin{pmatrix} \\hat{\\beta_1} \\\\ \\hat{\\beta_2} \\end{pmatrix} $ = $ (Z^TZ)^{-1}Z^TY = \\begin{pmatrix}  \\begin{pmatrix} 1 & 0 & ... & 0 \\\\ 0 & 1 & ... & 1 \\end{pmatrix} & \\begin{pmatrix} 1 & 0 \\\\ 0 & 1 \\\\ ... \\\\ 0 & 1 \\end{pmatrix}  \\end{pmatrix} ^{-1}\\begin{pmatrix} 1 & 0 & ... & 0 \\\\ 0 & 1 & ... & 1 \\end{pmatrix}\\begin{pmatrix} Y_0 \\\\ Y_1 \\\\ ... \\\\ Y_n \\end{pmatrix} = \\begin{pmatrix} 1 & 0 \\\\ 0 & n \\end{pmatrix} ^{-1}\\begin{pmatrix} 1 & 0 & ... & 0 \\\\ 0 & 1 & ... & 1 \\end{pmatrix}\\begin{pmatrix} Y_0 \\\\ Y_1 \\\\ ... \\\\ Y_n \\end{pmatrix} $ = $ \\begin{pmatrix} 1 & 0 \\\\ 0 & \\frac{1}{n} \\end{pmatrix} \\begin{pmatrix} 1 & 0 & ... & 0 \\\\ 0 & 1 & ... & 1 \\end{pmatrix}\\begin{pmatrix} Y_0 \\\\ Y_1 \\\\ ... \\\\ Y_n \\end{pmatrix} $ = $ \\begin{pmatrix} 1 & 0 & ... & 0 \\\\ 0 & \\frac{1}{n} & ... & \\frac{1}{n} \\end{pmatrix}\\begin{pmatrix} Y_0 \\\\ Y_1 \\\\ ... \\\\ Y_n \\end{pmatrix} $ = $ \\begin{pmatrix} Y_0 \\\\ \\sum_{i $ = $ 1}^n{Y_i\\frac{1}{n}} \\end{pmatrix} = \\begin{pmatrix} X_0 \\\\ \\frac{1}{n}(X_n - X_0) \\end{pmatrix}$"
   ]
  },
  {
   "cell_type": "code",
   "execution_count": 3,
   "metadata": {
    "collapsed": false
   },
   "outputs": [
    {
     "name": "stdout",
     "output_type": "stream",
     "text": [
      "14.7978\n",
      "14.0360369\n"
     ]
    }
   ],
   "source": [
    "print(beta_1)\n",
    "print(beta_2)"
   ]
  },
  {
   "cell_type": "markdown",
   "metadata": {},
   "source": [
    "$\\hat{\\theta} = \\begin{pmatrix} \\beta_1 \\\\ \\beta_2 \\end{pmatrix} = \\begin{pmatrix} 14.7978 \\\\ 14.0360 \\end{pmatrix}$"
   ]
  },
  {
   "cell_type": "markdown",
   "metadata": {},
   "source": [
    "Найдем несмещенную оценку $\\sigma^2$:\n",
    "\n",
    "$\\hat{\\sigma^2} = \\frac{1}{n + 1 - k}||Y - Z\\hat{\\theta}||^2 $ = $ \\frac{1}{n-1}||\\begin{pmatrix} X_0 \\\\ X_1 - X_0 \\\\ ... \\\\ X_n - X_{n-1} \\end{pmatrix} - \\begin{pmatrix} 1 & 0 \\\\ 0 & 1 \\\\ ... & ... \\\\ 0 & 1 \\end{pmatrix} \\begin{pmatrix} X_0 \\\\ \\frac{1}{n}(X_n - X_0) \\end{pmatrix}||^2 $ = $ \\frac{1}{n-1}||\\begin{pmatrix} X_0 \\\\ X_1 - X_0 \\\\ ... \\\\ X_n - X_{n-1} \\end{pmatrix} - \\begin{pmatrix} X_0 \\\\ \\frac{1}{n}(X_n - X_0) \\\\ ... \\\\ \\frac{1}{n}(X_n - X_0) \\end{pmatrix}||^2 $ = $ \\frac{1}{n-1}||\\begin{pmatrix} 0 \\\\ X_1 - X_0 - \\frac{1}{n}(X_n - X_0) \\\\ ... \\\\ X_n - X_{n-1} - \\frac{1}{n}(X_n - X_0) \\end{pmatrix}||^2 = \\frac{1}{n - 1}\\sum_{i = 1}^n{(X_i - X_{i-1} - \\frac{X_n - X_0}{n})^2}$\n",
    "\n",
    "Оценка дисперсии отсчета времени:\n",
    "\n",
    "$\\varepsilon_i \\sim N(0, \\sigma^2), \\varepsilon_i^t = \\frac{\\varepsilon_i}{\\beta_2} => \\varepsilon_i^t \\sim N(0, \\frac{\\sigma^2}{\\beta_2})$\n",
    "\n",
    "$\\hat{\\sigma_t^2} = \\frac{\\hat{\\sigma^2}}{\\hat{\\beta_2}}$"
   ]
  },
  {
   "cell_type": "code",
   "execution_count": 4,
   "metadata": {
    "collapsed": false
   },
   "outputs": [
    {
     "name": "stdout",
     "output_type": "stream",
     "text": [
      "2.316148815405628\n",
      "0.16501444331523724\n"
     ]
    }
   ],
   "source": [
    "print(sigma)\n",
    "print(sigma/beta_2)"
   ]
  },
  {
   "cell_type": "markdown",
   "metadata": {},
   "source": [
    "$\\hat{\\sigma^2} = 2.316$ - несмещенная оценка $\\sigma^2$\n",
    "\n",
    "$\\hat{\\sigma_t^2} = 0.165$ - оценка $\\sigma^2_t$"
   ]
  }
 ],
 "metadata": {
  "kernelspec": {
   "display_name": "Python 3",
   "language": "python",
   "name": "python3"
  },
  "language_info": {
   "codemirror_mode": {
    "name": "ipython",
    "version": 3
   },
   "file_extension": ".py",
   "mimetype": "text/x-python",
   "name": "python",
   "nbconvert_exporter": "python",
   "pygments_lexer": "ipython3",
   "version": "3.5.1"
  }
 },
 "nbformat": 4,
 "nbformat_minor": 0
}
