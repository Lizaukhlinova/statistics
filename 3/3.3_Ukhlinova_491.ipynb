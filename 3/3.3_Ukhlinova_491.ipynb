{
 "cells": [
  {
   "cell_type": "code",
   "execution_count": 5,
   "metadata": {
    "collapsed": true
   },
   "outputs": [],
   "source": [
    "import numpy as np\n",
    "import scipy.stats as st\n",
    "import matplotlib.pyplot as plt\n",
    "%matplotlib inline\n",
    "\n",
    "data = []\n",
    "\n",
    "file = open('Weibull.csv', 'r')\n",
    "for str in file:\n",
    "    for c in str.split():\n",
    "        data.append(float(c))\n",
    "file.close()     "
   ]
  },
  {
   "cell_type": "code",
   "execution_count": 6,
   "metadata": {
    "collapsed": false
   },
   "outputs": [
    {
     "name": "stdout",
     "output_type": "stream",
     "text": [
      "Оценим параметр формы по первым 4 годам:\n"
     ]
    },
    {
     "data": {
      "image/png": "[encoded data removed]",
      "text/plain": [
       "<matplotlib.figure.Figure at 0xbb1e819b38>"
      ]
     },
     "metadata": {},
     "output_type": "display_data"
    }
   ],
   "source": [
    "log_x = np.arange(-2., 2., 0.001)\n",
    "alfa = 10. ** log_x\n",
    "F = np.zeros(len(log_x))\n",
    "\n",
    "for i in range(len(log_x)):\n",
    "    for k in data[0:1460]:\n",
    "        if k == 0:\n",
    "            k = 0.0001 \n",
    "        F[i] += log_x[i] - (k ** alfa[i]) + (alfa[i] - 1) * np.log(k)\n",
    "    F[i] = abs(F[i])\n",
    "    \n",
    "\n",
    "        \n",
    "print(\"Оценим параметр формы по первым 4 годам:\")\n",
    "plt.plot(log_x, F, 'g')\n",
    "plt.ylim([500, 3500])\n",
    "plt.show()\n"
   ]
  },
  {
   "cell_type": "code",
   "execution_count": 7,
   "metadata": {
    "collapsed": false
   },
   "outputs": [
    {
     "name": "stdout",
     "output_type": "stream",
     "text": [
      "Оценим параметр формы за все сремя:\n"
     ]
    },
    {
     "data": {
      "image/png": "[encoded data removed]",
      "text/plain": [
       "<matplotlib.figure.Figure at 0xbb1ebebfd0>"
      ]
     },
     "metadata": {},
     "output_type": "display_data"
    }
   ],
   "source": [
    "log_x = np.arange(-2., 2., 0.001)\n",
    "alfa = 10. ** log_x\n",
    "F = np.zeros(len(log_x))\n",
    "\n",
    "for i in range(len(log_x)):\n",
    "    for k in data:\n",
    "        if k == 0:\n",
    "            k = 0.0001 \n",
    "        F[i] += log_x[i] - (k ** alfa[i]) + (alfa[i] - 1) * np.log(k)\n",
    "    F[i] = abs(F[i])\n",
    "    \n",
    "\n",
    "        \n",
    "print(\"Оценим параметр формы за все сремя:\")\n",
    "plt.plot(log_x, F, 'g')\n",
    "plt.ylim([2000, 5000])\n",
    "plt.show()\n"
   ]
  },
  {
   "cell_type": "code",
   "execution_count": 8,
   "metadata": {
    "collapsed": false
   },
   "outputs": [
    {
     "name": "stdout",
     "output_type": "stream",
     "text": [
      "Значение максимума логарифмической функции правдоподобия: [-0.477]\n"
     ]
    }
   ],
   "source": [
    "est = log_x[np.where(F == min(F))]\n",
    "print(\"Значение максимума логарифмической функции правдоподобия:\", est)"
   ]
  },
  {
   "cell_type": "code",
   "execution_count": 9,
   "metadata": {
    "collapsed": false
   },
   "outputs": [
    {
     "name": "stdout",
     "output_type": "stream",
     "text": [
      "[ 0.33342641]\n"
     ]
    }
   ],
   "source": [
    "print(10 ** est)"
   ]
  },
  {
   "cell_type": "markdown",
   "metadata": {},
   "source": [
    "Следовательно, параментр формы примерно равен 0.33 "
   ]
  }
 ],
 "metadata": {
  "kernelspec": {
   "display_name": "Python 3",
   "language": "python",
   "name": "python3"
  },
  "language_info": {
   "codemirror_mode": {
    "name": "ipython",
    "version": 3
   },
   "file_extension": ".py",
   "mimetype": "text/x-python",
   "name": "python",
   "nbconvert_exporter": "python",
   "pygments_lexer": "ipython3",
   "version": "3.5.1"
  }
 },
 "nbformat": 4,
 "nbformat_minor": 0
}
